{
 "cells": [
  {
   "cell_type": "markdown",
   "id": "b7eac95f-d34f-4d1e-bab1-d235d15fc35f",
   "metadata": {},
   "source": [
    "# Penyelesaian Soal ETL Green Finance Assessment"
   ]
  },
  {
   "cell_type": "code",
   "execution_count": 2,
   "id": "e585594b-2134-44a3-b5dd-27407c2bd175",
   "metadata": {},
   "outputs": [
    {
     "name": "stdout",
     "output_type": "stream",
     "text": [
      "Requirement already satisfied: pandas in c:\\users\\046itavt\\appdata\\local\\programs\\python\\python39\\lib\\site-packages (2.2.2)\n",
      "Requirement already satisfied: numpy>=1.22.4 in c:\\users\\046itavt\\appdata\\local\\programs\\python\\python39\\lib\\site-packages (from pandas) (2.0.0)\n",
      "Requirement already satisfied: python-dateutil>=2.8.2 in c:\\users\\046itavt\\appdata\\local\\programs\\python\\python39\\lib\\site-packages (from pandas) (2.9.0.post0)\n",
      "Requirement already satisfied: pytz>=2020.1 in c:\\users\\046itavt\\appdata\\local\\programs\\python\\python39\\lib\\site-packages (from pandas) (2024.1)\n",
      "Requirement already satisfied: tzdata>=2022.7 in c:\\users\\046itavt\\appdata\\local\\programs\\python\\python39\\lib\\site-packages (from pandas) (2024.1)\n",
      "Requirement already satisfied: six>=1.5 in c:\\users\\046itavt\\appdata\\local\\programs\\python\\python39\\lib\\site-packages (from python-dateutil>=2.8.2->pandas) (1.16.0)\n"
     ]
    },
    {
     "name": "stderr",
     "output_type": "stream",
     "text": [
      "\n",
      "[notice] A new release of pip is available: 25.0 -> 25.1.1\n",
      "[notice] To update, run: python.exe -m pip install --upgrade pip\n"
     ]
    }
   ],
   "source": [
    "!pip install pandas"
   ]
  },
  {
   "cell_type": "code",
   "execution_count": 5,
   "id": "d0d81596-7ed6-4e45-a159-3478213322c0",
   "metadata": {},
   "outputs": [],
   "source": [
    "import pandas as pd\n",
    "from sklearn.tree import DecisionTreeClassifier\n",
    "from sklearn.model_selection import train_test_split\n",
    "from sklearn.metrics import accuracy_score\n",
    "\n",
    "# Load datasets\n",
    "env_df = pd.read_excel(\"C:/Users/046ITAVT/Documents/046ITAVT/Training/A9046DB2025/202506/Ujian/Environmental_Dataset.xlsx\")\n",
    "fin_df = pd.read_excel(\"C:/Users/046ITAVT/Documents/046ITAVT/Training/A9046DB2025/202506/Ujian/Financial_Dataset.xlsx\")\n",
    "econ_df = pd.read_excel(\"C:/Users/046ITAVT/Documents/046ITAVT/Training/A9046DB2025/202506/Ujian/Economic_Dataset.xlsx\")\n",
    "social_df = pd.read_excel(\"C:/Users/046ITAVT/Documents/046ITAVT/Training/A9046DB2025/202506/Ujian/Social_Dataset.xlsx\")\n",
    "geo_df = pd.read_excel(\"C:/Users/046ITAVT/Documents/046ITAVT/Training/A9046DB2025/202506/Ujian/Geospatial_Dataset.xlsx\")\n"
   ]
  },
  {
   "cell_type": "code",
   "execution_count": 16,
   "id": "31e2ef3d-9f9d-4080-bd11-43a8d535af9b",
   "metadata": {},
   "outputs": [
    {
     "data": {
      "text/html": [
       "<div>\n",
       "<style scoped>\n",
       "    .dataframe tbody tr th:only-of-type {\n",
       "        vertical-align: middle;\n",
       "    }\n",
       "\n",
       "    .dataframe tbody tr th {\n",
       "        vertical-align: top;\n",
       "    }\n",
       "\n",
       "    .dataframe thead th {\n",
       "        text-align: right;\n",
       "    }\n",
       "</style>\n",
       "<table border=\"1\" class=\"dataframe\">\n",
       "  <thead>\n",
       "    <tr style=\"text-align: right;\">\n",
       "      <th></th>\n",
       "      <th>Project_ID</th>\n",
       "      <th>CO2_Reduction</th>\n",
       "      <th>Energy_Output</th>\n",
       "      <th>Environmental_Risk_Index</th>\n",
       "      <th>Konteks_Lingkungan</th>\n",
       "      <th>Peringkat_Dampak</th>\n",
       "    </tr>\n",
       "  </thead>\n",
       "  <tbody>\n",
       "    <tr>\n",
       "      <th>0</th>\n",
       "      <td>PLTS-NTT-001</td>\n",
       "      <td>75000</td>\n",
       "      <td>25000</td>\n",
       "      <td>45</td>\n",
       "      <td>Sumba: radiasi matahari tinggi, rawan kekeringan</td>\n",
       "      <td>High: 🌿🌿🌿🌿</td>\n",
       "    </tr>\n",
       "    <tr>\n",
       "      <th>1</th>\n",
       "      <td>PLTM-SUMUT-001</td>\n",
       "      <td>30000</td>\n",
       "      <td>10000</td>\n",
       "      <td>60</td>\n",
       "      <td>Tapanuli: banjir musiman, debit air stabil</td>\n",
       "      <td>Medium: 🌿🌿🌿</td>\n",
       "    </tr>\n",
       "    <tr>\n",
       "      <th>2</th>\n",
       "      <td>PLTS-JATIM-001</td>\n",
       "      <td>90000</td>\n",
       "      <td>30000</td>\n",
       "      <td>30</td>\n",
       "      <td>Surabaya: risiko rendah, efisiensi tinggi</td>\n",
       "      <td>High: 🌿🌿🌿🌿🌿</td>\n",
       "    </tr>\n",
       "    <tr>\n",
       "      <th>3</th>\n",
       "      <td>PLTM-KALB-001</td>\n",
       "      <td>35000</td>\n",
       "      <td>12000</td>\n",
       "      <td>55</td>\n",
       "      <td>Kalbar: rawan banjir, hutan lindung dekat</td>\n",
       "      <td>Medium: 🌿🌿🌿</td>\n",
       "    </tr>\n",
       "    <tr>\n",
       "      <th>4</th>\n",
       "      <td>PLTS-SULS-001</td>\n",
       "      <td>60000</td>\n",
       "      <td>20000</td>\n",
       "      <td>40</td>\n",
       "      <td>Makassar: cuaca stabil, risiko sedang</td>\n",
       "      <td>High: 🌿🌿🌿🌿</td>\n",
       "    </tr>\n",
       "  </tbody>\n",
       "</table>\n",
       "</div>"
      ],
      "text/plain": [
       "       Project_ID  CO2_Reduction  Energy_Output  Environmental_Risk_Index  \\\n",
       "0    PLTS-NTT-001          75000          25000                        45   \n",
       "1  PLTM-SUMUT-001          30000          10000                        60   \n",
       "2  PLTS-JATIM-001          90000          30000                        30   \n",
       "3   PLTM-KALB-001          35000          12000                        55   \n",
       "4   PLTS-SULS-001          60000          20000                        40   \n",
       "\n",
       "                                 Konteks_Lingkungan Peringkat_Dampak  \n",
       "0  Sumba: radiasi matahari tinggi, rawan kekeringan       High: 🌿🌿🌿🌿  \n",
       "1        Tapanuli: banjir musiman, debit air stabil      Medium: 🌿🌿🌿  \n",
       "2         Surabaya: risiko rendah, efisiensi tinggi      High: 🌿🌿🌿🌿🌿  \n",
       "3         Kalbar: rawan banjir, hutan lindung dekat      Medium: 🌿🌿🌿  \n",
       "4             Makassar: cuaca stabil, risiko sedang       High: 🌿🌿🌿🌿  "
      ]
     },
     "execution_count": 16,
     "metadata": {},
     "output_type": "execute_result"
    }
   ],
   "source": [
    "env_df.head()"
   ]
  },
  {
   "cell_type": "code",
   "execution_count": 17,
   "id": "08e0f3da-0247-45f8-9b3c-58ec3e47f1e3",
   "metadata": {},
   "outputs": [
    {
     "data": {
      "text/html": [
       "<div>\n",
       "<style scoped>\n",
       "    .dataframe tbody tr th:only-of-type {\n",
       "        vertical-align: middle;\n",
       "    }\n",
       "\n",
       "    .dataframe tbody tr th {\n",
       "        vertical-align: top;\n",
       "    }\n",
       "\n",
       "    .dataframe thead th {\n",
       "        text-align: right;\n",
       "    }\n",
       "</style>\n",
       "<table border=\"1\" class=\"dataframe\">\n",
       "  <thead>\n",
       "    <tr style=\"text-align: right;\">\n",
       "      <th></th>\n",
       "      <th>Project_ID</th>\n",
       "      <th>Investment_Cost</th>\n",
       "      <th>Revenue_Stream</th>\n",
       "      <th>Debt_Ratio</th>\n",
       "      <th>Payment_Delay</th>\n",
       "      <th>Konteks_Proyek</th>\n",
       "      <th>Status_Rank</th>\n",
       "    </tr>\n",
       "  </thead>\n",
       "  <tbody>\n",
       "    <tr>\n",
       "      <th>0</th>\n",
       "      <td>PLTS-NTT-001</td>\n",
       "      <td>150.00</td>\n",
       "      <td>12.5</td>\n",
       "      <td>0.65</td>\n",
       "      <td>30</td>\n",
       "      <td>PLTS di Sumba, biaya logistik tinggi, pendanaa...</td>\n",
       "      <td>Medium: ★★★☆☆</td>\n",
       "    </tr>\n",
       "    <tr>\n",
       "      <th>1</th>\n",
       "      <td>PLTM-SUMUT-001</td>\n",
       "      <td>80.00</td>\n",
       "      <td>6.8</td>\n",
       "      <td>0.55</td>\n",
       "      <td>15</td>\n",
       "      <td>PLTM di Tapanuli, akses mudah ke jaringan PLN</td>\n",
       "      <td>Low: ★★☆☆☆</td>\n",
       "    </tr>\n",
       "    <tr>\n",
       "      <th>2</th>\n",
       "      <td>PLTS-JATIM-001</td>\n",
       "      <td>200.23</td>\n",
       "      <td>18.0</td>\n",
       "      <td>0.70</td>\n",
       "      <td>45</td>\n",
       "      <td>PLTS besar di Surabaya, permintaan pasar tinggi</td>\n",
       "      <td>High: ★★★★☆</td>\n",
       "    </tr>\n",
       "    <tr>\n",
       "      <th>3</th>\n",
       "      <td>PLTM-KALB-001</td>\n",
       "      <td>90.00</td>\n",
       "      <td>7.2</td>\n",
       "      <td>0.60</td>\n",
       "      <td>20</td>\n",
       "      <td>PLTM di Kalimantan Barat, tantangan lahan adat</td>\n",
       "      <td>Medium: ★★★☆☆</td>\n",
       "    </tr>\n",
       "    <tr>\n",
       "      <th>4</th>\n",
       "      <td>PLTS-SULS-001</td>\n",
       "      <td>125.50</td>\n",
       "      <td>10.0</td>\n",
       "      <td>0.50</td>\n",
       "      <td>10</td>\n",
       "      <td>PLTS di Makassar, efisiensi tinggi distribusi</td>\n",
       "      <td>Low: ★☆☆☆☆</td>\n",
       "    </tr>\n",
       "  </tbody>\n",
       "</table>\n",
       "</div>"
      ],
      "text/plain": [
       "       Project_ID  Investment_Cost  Revenue_Stream  Debt_Ratio  Payment_Delay  \\\n",
       "0    PLTS-NTT-001           150.00            12.5        0.65             30   \n",
       "1  PLTM-SUMUT-001            80.00             6.8        0.55             15   \n",
       "2  PLTS-JATIM-001           200.23            18.0        0.70             45   \n",
       "3   PLTM-KALB-001            90.00             7.2        0.60             20   \n",
       "4   PLTS-SULS-001           125.50            10.0        0.50             10   \n",
       "\n",
       "                                      Konteks_Proyek    Status_Rank  \n",
       "0  PLTS di Sumba, biaya logistik tinggi, pendanaa...  Medium: ★★★☆☆  \n",
       "1      PLTM di Tapanuli, akses mudah ke jaringan PLN     Low: ★★☆☆☆  \n",
       "2    PLTS besar di Surabaya, permintaan pasar tinggi    High: ★★★★☆  \n",
       "3     PLTM di Kalimantan Barat, tantangan lahan adat  Medium: ★★★☆☆  \n",
       "4      PLTS di Makassar, efisiensi tinggi distribusi     Low: ★☆☆☆☆  "
      ]
     },
     "execution_count": 17,
     "metadata": {},
     "output_type": "execute_result"
    }
   ],
   "source": [
    "fin_df.head()"
   ]
  },
  {
   "cell_type": "code",
   "execution_count": 18,
   "id": "8fa83783-bfb0-41b9-aa0f-fcaa47cac490",
   "metadata": {},
   "outputs": [
    {
     "data": {
      "text/html": [
       "<div>\n",
       "<style scoped>\n",
       "    .dataframe tbody tr th:only-of-type {\n",
       "        vertical-align: middle;\n",
       "    }\n",
       "\n",
       "    .dataframe tbody tr th {\n",
       "        vertical-align: top;\n",
       "    }\n",
       "\n",
       "    .dataframe thead th {\n",
       "        text-align: right;\n",
       "    }\n",
       "</style>\n",
       "<table border=\"1\" class=\"dataframe\">\n",
       "  <thead>\n",
       "    <tr style=\"text-align: right;\">\n",
       "      <th></th>\n",
       "      <th>Project_ID</th>\n",
       "      <th>GDP_Growth</th>\n",
       "      <th>Interest_Rate</th>\n",
       "      <th>Bond_Yield</th>\n",
       "      <th>Konteks_Ekonomi</th>\n",
       "      <th>Daya_Tarik_Investasi</th>\n",
       "    </tr>\n",
       "  </thead>\n",
       "  <tbody>\n",
       "    <tr>\n",
       "      <th>0</th>\n",
       "      <td>PLTS-NTT-001</td>\n",
       "      <td>4.5</td>\n",
       "      <td>4.2</td>\n",
       "      <td>5.1</td>\n",
       "      <td>Sumba: pertumbuhan rendah, pariwisata hijau</td>\n",
       "      <td>Medium: 💵💵💵</td>\n",
       "    </tr>\n",
       "    <tr>\n",
       "      <th>1</th>\n",
       "      <td>PLTM-SUMUT-001</td>\n",
       "      <td>5.2</td>\n",
       "      <td>3.8</td>\n",
       "      <td>4.8</td>\n",
       "      <td>Tapanuli: ekonomi agro, stabil</td>\n",
       "      <td>High: 💵💵💵💵</td>\n",
       "    </tr>\n",
       "    <tr>\n",
       "      <th>2</th>\n",
       "      <td>PLTS-JATIM-001</td>\n",
       "      <td>6.0</td>\n",
       "      <td>0.0</td>\n",
       "      <td>5.0</td>\n",
       "      <td>Surabaya: pasar besar, industri kuat</td>\n",
       "      <td>High: 💵💵💵💵💵</td>\n",
       "    </tr>\n",
       "    <tr>\n",
       "      <th>3</th>\n",
       "      <td>PLTM-KALB-001</td>\n",
       "      <td>4.8</td>\n",
       "      <td>4.1</td>\n",
       "      <td>5.2</td>\n",
       "      <td>Kalbar: ekonomi perkebunan, sedang tumbuh</td>\n",
       "      <td>Medium: 💵💵💵</td>\n",
       "    </tr>\n",
       "    <tr>\n",
       "      <th>4</th>\n",
       "      <td>PLTS-SULS-001</td>\n",
       "      <td>5.5</td>\n",
       "      <td>0.0</td>\n",
       "      <td>4.9</td>\n",
       "      <td>Makassar: hub ekonomi, pendidikan tinggi</td>\n",
       "      <td>High: 💵💵💵💵</td>\n",
       "    </tr>\n",
       "  </tbody>\n",
       "</table>\n",
       "</div>"
      ],
      "text/plain": [
       "       Project_ID  GDP_Growth  Interest_Rate  Bond_Yield  \\\n",
       "0    PLTS-NTT-001         4.5            4.2         5.1   \n",
       "1  PLTM-SUMUT-001         5.2            3.8         4.8   \n",
       "2  PLTS-JATIM-001         6.0            0.0         5.0   \n",
       "3   PLTM-KALB-001         4.8            4.1         5.2   \n",
       "4   PLTS-SULS-001         5.5            0.0         4.9   \n",
       "\n",
       "                               Konteks_Ekonomi Daya_Tarik_Investasi  \n",
       "0  Sumba: pertumbuhan rendah, pariwisata hijau          Medium: 💵💵💵  \n",
       "1               Tapanuli: ekonomi agro, stabil           High: 💵💵💵💵  \n",
       "2         Surabaya: pasar besar, industri kuat          High: 💵💵💵💵💵  \n",
       "3    Kalbar: ekonomi perkebunan, sedang tumbuh          Medium: 💵💵💵  \n",
       "4     Makassar: hub ekonomi, pendidikan tinggi           High: 💵💵💵💵  "
      ]
     },
     "execution_count": 18,
     "metadata": {},
     "output_type": "execute_result"
    }
   ],
   "source": [
    "econ_df.head()"
   ]
  },
  {
   "cell_type": "code",
   "execution_count": 19,
   "id": "7b5d976a-9f8d-411e-bb79-620271aef425",
   "metadata": {},
   "outputs": [
    {
     "data": {
      "text/html": [
       "<div>\n",
       "<style scoped>\n",
       "    .dataframe tbody tr th:only-of-type {\n",
       "        vertical-align: middle;\n",
       "    }\n",
       "\n",
       "    .dataframe tbody tr th {\n",
       "        vertical-align: top;\n",
       "    }\n",
       "\n",
       "    .dataframe thead th {\n",
       "        text-align: right;\n",
       "    }\n",
       "</style>\n",
       "<table border=\"1\" class=\"dataframe\">\n",
       "  <thead>\n",
       "    <tr style=\"text-align: right;\">\n",
       "      <th></th>\n",
       "      <th>Project_ID</th>\n",
       "      <th>Land_Status</th>\n",
       "      <th>Community_Support</th>\n",
       "      <th>Population_Density</th>\n",
       "      <th>Konteks_Sosial</th>\n",
       "      <th>Tingkat_Konflik</th>\n",
       "    </tr>\n",
       "  </thead>\n",
       "  <tbody>\n",
       "    <tr>\n",
       "      <th>0</th>\n",
       "      <td>PLTS-NTT-001</td>\n",
       "      <td>Adat</td>\n",
       "      <td>70</td>\n",
       "      <td>50</td>\n",
       "      <td>Sumba: lahan adat, konsultasi intensif</td>\n",
       "      <td>High: ⚠️⚠️⚠️</td>\n",
       "    </tr>\n",
       "    <tr>\n",
       "      <th>1</th>\n",
       "      <td>PLTM-SUMUT-001</td>\n",
       "      <td>Negara</td>\n",
       "      <td>85</td>\n",
       "      <td>200</td>\n",
       "      <td>Tapanuli: izin BPN lancar, dukungan tinggi</td>\n",
       "      <td>Low: ⚠️</td>\n",
       "    </tr>\n",
       "    <tr>\n",
       "      <th>2</th>\n",
       "      <td>PLTS-JATIM-001</td>\n",
       "      <td>Swasta</td>\n",
       "      <td>90</td>\n",
       "      <td>800</td>\n",
       "      <td>Surabaya: lahan swasta, masyarakat urban</td>\n",
       "      <td>Low: ⚠️</td>\n",
       "    </tr>\n",
       "    <tr>\n",
       "      <th>3</th>\n",
       "      <td>PLTM-KALB-001</td>\n",
       "      <td>Adat</td>\n",
       "      <td>65</td>\n",
       "      <td>100</td>\n",
       "      <td>Kalbar: lahan adat, risiko konflik sedang</td>\n",
       "      <td>High: ⚠️⚠️⚠️</td>\n",
       "    </tr>\n",
       "    <tr>\n",
       "      <th>4</th>\n",
       "      <td>PLTS-SULS-001</td>\n",
       "      <td>Negara</td>\n",
       "      <td>80</td>\n",
       "      <td>300</td>\n",
       "      <td>Makassar: izin mudah, dukungan baik</td>\n",
       "      <td>Medium: ⚠️⚠️</td>\n",
       "    </tr>\n",
       "  </tbody>\n",
       "</table>\n",
       "</div>"
      ],
      "text/plain": [
       "       Project_ID Land_Status  Community_Support  Population_Density  \\\n",
       "0    PLTS-NTT-001        Adat                 70                  50   \n",
       "1  PLTM-SUMUT-001      Negara                 85                 200   \n",
       "2  PLTS-JATIM-001      Swasta                 90                 800   \n",
       "3   PLTM-KALB-001        Adat                 65                 100   \n",
       "4   PLTS-SULS-001      Negara                 80                 300   \n",
       "\n",
       "                               Konteks_Sosial Tingkat_Konflik  \n",
       "0      Sumba: lahan adat, konsultasi intensif    High: ⚠️⚠️⚠️  \n",
       "1  Tapanuli: izin BPN lancar, dukungan tinggi         Low: ⚠️  \n",
       "2    Surabaya: lahan swasta, masyarakat urban         Low: ⚠️  \n",
       "3   Kalbar: lahan adat, risiko konflik sedang    High: ⚠️⚠️⚠️  \n",
       "4         Makassar: izin mudah, dukungan baik    Medium: ⚠️⚠️  "
      ]
     },
     "execution_count": 19,
     "metadata": {},
     "output_type": "execute_result"
    }
   ],
   "source": [
    "social_df.head()"
   ]
  },
  {
   "cell_type": "code",
   "execution_count": 20,
   "id": "b2459b9f-8cd6-4c68-a2d9-b261840915af",
   "metadata": {},
   "outputs": [
    {
     "data": {
      "text/html": [
       "<div>\n",
       "<style scoped>\n",
       "    .dataframe tbody tr th:only-of-type {\n",
       "        vertical-align: middle;\n",
       "    }\n",
       "\n",
       "    .dataframe tbody tr th {\n",
       "        vertical-align: top;\n",
       "    }\n",
       "\n",
       "    .dataframe thead th {\n",
       "        text-align: right;\n",
       "    }\n",
       "</style>\n",
       "<table border=\"1\" class=\"dataframe\">\n",
       "  <thead>\n",
       "    <tr style=\"text-align: right;\">\n",
       "      <th></th>\n",
       "      <th>Project_ID</th>\n",
       "      <th>Solar_Irradiance</th>\n",
       "      <th>Water_Flow</th>\n",
       "      <th>Distance_to_Grid</th>\n",
       "      <th>Konteks_Geospasial</th>\n",
       "      <th>Efisiensi_Lokasi</th>\n",
       "    </tr>\n",
       "  </thead>\n",
       "  <tbody>\n",
       "    <tr>\n",
       "      <th>0</th>\n",
       "      <td>PLTS-NTT-001</td>\n",
       "      <td>5.8</td>\n",
       "      <td>0.0</td>\n",
       "      <td>8</td>\n",
       "      <td>Sumba: radiasi tinggi, dekat jaringan</td>\n",
       "      <td>High: 📍📍📍📍</td>\n",
       "    </tr>\n",
       "    <tr>\n",
       "      <th>1</th>\n",
       "      <td>PLTM-SUMUT-001</td>\n",
       "      <td>0.0</td>\n",
       "      <td>1.5</td>\n",
       "      <td>5</td>\n",
       "      <td>Tapanuli: debit stabil, akses PLN baik</td>\n",
       "      <td>High: 📍📍📍📍</td>\n",
       "    </tr>\n",
       "    <tr>\n",
       "      <th>2</th>\n",
       "      <td>PLTS-JATIM-001</td>\n",
       "      <td>5.5</td>\n",
       "      <td>0.0</td>\n",
       "      <td>3</td>\n",
       "      <td>Surabaya: radiasi baik, jaringan dekat</td>\n",
       "      <td>High: 📍📍📍📍📍</td>\n",
       "    </tr>\n",
       "    <tr>\n",
       "      <th>3</th>\n",
       "      <td>PLTM-KALB-001</td>\n",
       "      <td>0.0</td>\n",
       "      <td>1.8</td>\n",
       "      <td>10</td>\n",
       "      <td>Kalbar: debit tinggi, jaringan sedang</td>\n",
       "      <td>Medium: 📍📍📍</td>\n",
       "    </tr>\n",
       "    <tr>\n",
       "      <th>4</th>\n",
       "      <td>PLTS-SULS-001</td>\n",
       "      <td>5.7</td>\n",
       "      <td>0.0</td>\n",
       "      <td>6</td>\n",
       "      <td>Makassar: radiasi tinggi, akses baik</td>\n",
       "      <td>High: 📍📍📍📍</td>\n",
       "    </tr>\n",
       "  </tbody>\n",
       "</table>\n",
       "</div>"
      ],
      "text/plain": [
       "       Project_ID  Solar_Irradiance  Water_Flow  Distance_to_Grid  \\\n",
       "0    PLTS-NTT-001               5.8         0.0                 8   \n",
       "1  PLTM-SUMUT-001               0.0         1.5                 5   \n",
       "2  PLTS-JATIM-001               5.5         0.0                 3   \n",
       "3   PLTM-KALB-001               0.0         1.8                10   \n",
       "4   PLTS-SULS-001               5.7         0.0                 6   \n",
       "\n",
       "                       Konteks_Geospasial Efisiensi_Lokasi  \n",
       "0   Sumba: radiasi tinggi, dekat jaringan       High: 📍📍📍📍  \n",
       "1  Tapanuli: debit stabil, akses PLN baik       High: 📍📍📍📍  \n",
       "2  Surabaya: radiasi baik, jaringan dekat      High: 📍📍📍📍📍  \n",
       "3   Kalbar: debit tinggi, jaringan sedang      Medium: 📍📍📍  \n",
       "4    Makassar: radiasi tinggi, akses baik       High: 📍📍📍📍  "
      ]
     },
     "execution_count": 20,
     "metadata": {},
     "output_type": "execute_result"
    }
   ],
   "source": [
    "geo_df.head()"
   ]
  },
  {
   "cell_type": "markdown",
   "id": "732946b7-35ae-40e7-bd7c-e498b46fdeff",
   "metadata": {},
   "source": [
    "## Soal 1: If-Else dan Aritmatika"
   ]
  },
  {
   "cell_type": "code",
   "execution_count": 21,
   "id": "a0238c2d-739b-4722-8755-97db7b701e23",
   "metadata": {},
   "outputs": [
    {
     "data": {
      "text/html": [
       "<div>\n",
       "<style scoped>\n",
       "    .dataframe tbody tr th:only-of-type {\n",
       "        vertical-align: middle;\n",
       "    }\n",
       "\n",
       "    .dataframe tbody tr th {\n",
       "        vertical-align: top;\n",
       "    }\n",
       "\n",
       "    .dataframe thead th {\n",
       "        text-align: right;\n",
       "    }\n",
       "</style>\n",
       "<table border=\"1\" class=\"dataframe\">\n",
       "  <thead>\n",
       "    <tr style=\"text-align: right;\">\n",
       "      <th></th>\n",
       "      <th>Project_ID</th>\n",
       "      <th>CO2_Reduction</th>\n",
       "      <th>Energy_Output</th>\n",
       "      <th>Environmental_Risk_Index</th>\n",
       "      <th>Konteks_Lingkungan</th>\n",
       "      <th>Peringkat_Dampak</th>\n",
       "      <th>Investment_Cost</th>\n",
       "      <th>Revenue_Stream</th>\n",
       "      <th>Debt_Ratio</th>\n",
       "      <th>Payment_Delay</th>\n",
       "      <th>Konteks_Proyek</th>\n",
       "      <th>Status_Rank</th>\n",
       "    </tr>\n",
       "  </thead>\n",
       "  <tbody>\n",
       "    <tr>\n",
       "      <th>0</th>\n",
       "      <td>PLTS-NTT-001</td>\n",
       "      <td>75000</td>\n",
       "      <td>25000</td>\n",
       "      <td>45</td>\n",
       "      <td>Sumba: radiasi matahari tinggi, rawan kekeringan</td>\n",
       "      <td>High: 🌿🌿🌿🌿</td>\n",
       "      <td>150.00</td>\n",
       "      <td>12.5</td>\n",
       "      <td>0.65</td>\n",
       "      <td>30</td>\n",
       "      <td>PLTS di Sumba, biaya logistik tinggi, pendanaa...</td>\n",
       "      <td>Medium: ★★★☆☆</td>\n",
       "    </tr>\n",
       "    <tr>\n",
       "      <th>1</th>\n",
       "      <td>PLTM-SUMUT-001</td>\n",
       "      <td>30000</td>\n",
       "      <td>10000</td>\n",
       "      <td>60</td>\n",
       "      <td>Tapanuli: banjir musiman, debit air stabil</td>\n",
       "      <td>Medium: 🌿🌿🌿</td>\n",
       "      <td>80.00</td>\n",
       "      <td>6.8</td>\n",
       "      <td>0.55</td>\n",
       "      <td>15</td>\n",
       "      <td>PLTM di Tapanuli, akses mudah ke jaringan PLN</td>\n",
       "      <td>Low: ★★☆☆☆</td>\n",
       "    </tr>\n",
       "    <tr>\n",
       "      <th>2</th>\n",
       "      <td>PLTS-JATIM-001</td>\n",
       "      <td>90000</td>\n",
       "      <td>30000</td>\n",
       "      <td>30</td>\n",
       "      <td>Surabaya: risiko rendah, efisiensi tinggi</td>\n",
       "      <td>High: 🌿🌿🌿🌿🌿</td>\n",
       "      <td>200.23</td>\n",
       "      <td>18.0</td>\n",
       "      <td>0.70</td>\n",
       "      <td>45</td>\n",
       "      <td>PLTS besar di Surabaya, permintaan pasar tinggi</td>\n",
       "      <td>High: ★★★★☆</td>\n",
       "    </tr>\n",
       "    <tr>\n",
       "      <th>3</th>\n",
       "      <td>PLTM-KALB-001</td>\n",
       "      <td>35000</td>\n",
       "      <td>12000</td>\n",
       "      <td>55</td>\n",
       "      <td>Kalbar: rawan banjir, hutan lindung dekat</td>\n",
       "      <td>Medium: 🌿🌿🌿</td>\n",
       "      <td>90.00</td>\n",
       "      <td>7.2</td>\n",
       "      <td>0.60</td>\n",
       "      <td>20</td>\n",
       "      <td>PLTM di Kalimantan Barat, tantangan lahan adat</td>\n",
       "      <td>Medium: ★★★☆☆</td>\n",
       "    </tr>\n",
       "    <tr>\n",
       "      <th>4</th>\n",
       "      <td>PLTS-SULS-001</td>\n",
       "      <td>60000</td>\n",
       "      <td>20000</td>\n",
       "      <td>40</td>\n",
       "      <td>Makassar: cuaca stabil, risiko sedang</td>\n",
       "      <td>High: 🌿🌿🌿🌿</td>\n",
       "      <td>125.50</td>\n",
       "      <td>10.0</td>\n",
       "      <td>0.50</td>\n",
       "      <td>10</td>\n",
       "      <td>PLTS di Makassar, efisiensi tinggi distribusi</td>\n",
       "      <td>Low: ★☆☆☆☆</td>\n",
       "    </tr>\n",
       "  </tbody>\n",
       "</table>\n",
       "</div>"
      ],
      "text/plain": [
       "       Project_ID  CO2_Reduction  Energy_Output  Environmental_Risk_Index  \\\n",
       "0    PLTS-NTT-001          75000          25000                        45   \n",
       "1  PLTM-SUMUT-001          30000          10000                        60   \n",
       "2  PLTS-JATIM-001          90000          30000                        30   \n",
       "3   PLTM-KALB-001          35000          12000                        55   \n",
       "4   PLTS-SULS-001          60000          20000                        40   \n",
       "\n",
       "                                 Konteks_Lingkungan Peringkat_Dampak  \\\n",
       "0  Sumba: radiasi matahari tinggi, rawan kekeringan       High: 🌿🌿🌿🌿   \n",
       "1        Tapanuli: banjir musiman, debit air stabil      Medium: 🌿🌿🌿   \n",
       "2         Surabaya: risiko rendah, efisiensi tinggi      High: 🌿🌿🌿🌿🌿   \n",
       "3         Kalbar: rawan banjir, hutan lindung dekat      Medium: 🌿🌿🌿   \n",
       "4             Makassar: cuaca stabil, risiko sedang       High: 🌿🌿🌿🌿   \n",
       "\n",
       "   Investment_Cost  Revenue_Stream  Debt_Ratio  Payment_Delay  \\\n",
       "0           150.00            12.5        0.65             30   \n",
       "1            80.00             6.8        0.55             15   \n",
       "2           200.23            18.0        0.70             45   \n",
       "3            90.00             7.2        0.60             20   \n",
       "4           125.50            10.0        0.50             10   \n",
       "\n",
       "                                      Konteks_Proyek    Status_Rank  \n",
       "0  PLTS di Sumba, biaya logistik tinggi, pendanaa...  Medium: ★★★☆☆  \n",
       "1      PLTM di Tapanuli, akses mudah ke jaringan PLN     Low: ★★☆☆☆  \n",
       "2    PLTS besar di Surabaya, permintaan pasar tinggi    High: ★★★★☆  \n",
       "3     PLTM di Kalimantan Barat, tantangan lahan adat  Medium: ★★★☆☆  \n",
       "4      PLTS di Makassar, efisiensi tinggi distribusi     Low: ★☆☆☆☆  "
      ]
     },
     "execution_count": 21,
     "metadata": {},
     "output_type": "execute_result"
    }
   ],
   "source": [
    "merged_1 = pd.merge(env_df, fin_df, on=\"Project_ID\")\n",
    "merged_1.head()\n"
   ]
  },
  {
   "cell_type": "code",
   "execution_count": 23,
   "id": "91c45ffd-94fb-4aaa-a49f-82f9c7e7ad78",
   "metadata": {},
   "outputs": [
    {
     "name": "stdout",
     "output_type": "stream",
     "text": [
      "PLTS-NTT-001: 0.50 (High)\n",
      "PLTS-JATIM-001: 0.45 (Low)\n",
      "PLTS-SULS-001: 0.48 (Low)\n",
      "PLTS-NTB-001: 0.44 (Low)\n",
      "PLTS-JABW-001: 0.43 (Low)\n"
     ]
    }
   ],
   "source": [
    "merged_1 = pd.merge(env_df, fin_df, on=\"Project_ID\")\n",
    "plts = merged_1[merged_1[\"Project_ID\"].str.startswith(\"PLTS\")]\n",
    "\n",
    "for _, row in plts.iterrows():\n",
    "    try:\n",
    "        ratio = row[\"CO2_Reduction\"] / (row[\"Investment_Cost\"] * 1_000)\n",
    "        category = \"High\" if ratio >= 0.5 else \"Low\"\n",
    "        print(f\"{row['Project_ID']}: {ratio:.2f} ({category})\")\n",
    "    except ZeroDivisionError:\n",
    "        print(f\"{row['Project_ID']}: Cannot compute\")"
   ]
  },
  {
   "cell_type": "markdown",
   "id": "7fe4471f-218a-49ba-90b0-7d6e9dfaa4c4",
   "metadata": {},
   "source": [
    "## Soal 2: For Loop dan List"
   ]
  },
  {
   "cell_type": "code",
   "execution_count": 8,
   "id": "823b08fe-574b-43f0-81e1-fd23a111b5a1",
   "metadata": {},
   "outputs": [
    {
     "name": "stdout",
     "output_type": "stream",
     "text": [
      "Average CO2 Reduction for PLTM Projects: 34600 tons CO2e\n"
     ]
    }
   ],
   "source": [
    "pltm_list = [row[\"CO2_Reduction\"] for _, row in env_df.iterrows() if row[\"Project_ID\"].startswith(\"PLTM\")]\n",
    "if pltm_list:\n",
    "    avg = sum(pltm_list) / len(pltm_list)\n",
    "    print(f\"Average CO2 Reduction for PLTM Projects: {avg:.0f} tons CO2e\")\n",
    "else:\n",
    "    print(\"No PLTM projects found.\")"
   ]
  },
  {
   "cell_type": "markdown",
   "id": "cc7f3c6b-0023-4d31-9995-bfa3e5857029",
   "metadata": {},
   "source": [
    "## Soal 3: While Loop dan Input (opsional)"
   ]
  },
  {
   "cell_type": "code",
   "execution_count": 9,
   "id": "f1bc292d-fca2-4c86-ac5d-fd0210cab8d4",
   "metadata": {},
   "outputs": [
    {
     "name": "stdin",
     "output_type": "stream",
     "text": [
      "Enter Project_ID (or 'DONE' to finish):  DONE\n"
     ]
    }
   ],
   "source": [
    "social_dict = social_df.set_index(\"Project_ID\")[[\"Land_Status\", \"Tingkat_Konflik\"]].to_dict(orient=\"index\")\n",
    "\n",
    "while True:\n",
    "    pid = input(\"Enter Project_ID (or 'DONE' to finish): \").strip()\n",
    "    if pid.upper() == \"DONE\":\n",
    "        break\n",
    "    elif pid in social_dict:\n",
    "        land = social_dict[pid][\"Land_Status\"]\n",
    "        konflik = social_dict[pid][\"Tingkat_Konflik\"]\n",
    "        print(f\"{pid} - Land Status: {land}, Tingkat Konflik: {konflik}\")\n",
    "    else:\n",
    "        print(\"Project not found\")"
   ]
  },
  {
   "cell_type": "markdown",
   "id": "4e170bc3-a992-4a3b-845f-f8163c5b338e",
   "metadata": {},
   "source": [
    "## Soal 4: Dictionary Filtering"
   ]
  },
  {
   "cell_type": "code",
   "execution_count": 10,
   "id": "2213a685-ac13-498a-99ff-a8bdb9f34f31",
   "metadata": {},
   "outputs": [
    {
     "name": "stdout",
     "output_type": "stream",
     "text": [
      "Projects with High Investment Attractiveness and Low Conflict:\n"
     ]
    }
   ],
   "source": [
    "merged_4 = pd.merge(econ_df, social_df, on=\"Project_ID\")\n",
    "project_info = {\n",
    "    row[\"Project_ID\"]: (row[\"Daya_Tarik_Investasi\"], row[\"Tingkat_Konflik\"])\n",
    "    for _, row in merged_4.iterrows()\n",
    "}\n",
    "\n",
    "print(\"Projects with High Investment Attractiveness and Low Conflict:\")\n",
    "for pid, (attract, conflict) in project_info.items():\n",
    "    if attract == \"High\" and conflict == \"Low\":\n",
    "        print(pid)"
   ]
  },
  {
   "cell_type": "markdown",
   "id": "d9fd2161-a44e-4a90-991e-85a70aafadb1",
   "metadata": {},
   "source": [
    "## Soal 5: Function"
   ]
  },
  {
   "cell_type": "code",
   "execution_count": 11,
   "id": "1637eb4d-a812-4f64-b6f9-3d169338b057",
   "metadata": {},
   "outputs": [
    {
     "name": "stdout",
     "output_type": "stream",
     "text": [
      "Total Investment for High-Efficiency Locations: 0.00 billion Rp\n"
     ]
    }
   ],
   "source": [
    "merged_5 = pd.merge(geo_df, fin_df, on=\"Project_ID\")\n",
    "\n",
    "def calculate_total_investment(project_ids, data):\n",
    "    total = 0\n",
    "    for pid in project_ids:\n",
    "        row = data[data[\"Project_ID\"] == pid]\n",
    "        if not row.empty and row.iloc[0][\"Efisiensi_Lokasi\"] == \"High\":\n",
    "            total += row.iloc[0][\"Investment_Cost\"]\n",
    "    return total\n",
    "\n",
    "ids_5 = merged_5[\"Project_ID\"].tolist()\n",
    "total = calculate_total_investment(ids_5, merged_5)\n",
    "print(f\"Total Investment for High-Efficiency Locations: {total:.2f} billion Rp\")\n"
   ]
  },
  {
   "cell_type": "markdown",
   "id": "48e64d77-b3df-4406-b5b2-e10d0ca1aa70",
   "metadata": {},
   "source": [
    "## Soal 6: Fungsi Error Handling"
   ]
  },
  {
   "cell_type": "code",
   "execution_count": 13,
   "id": "3622588d-0d32-4aa6-86c2-4e9747ac3d78",
   "metadata": {},
   "outputs": [
    {
     "name": "stdout",
     "output_type": "stream",
     "text": [
      "PLTS-NTT-001: 0.5\n",
      "PLTS-JATIM-001: 0.45\n",
      "PLTM-PAPU-001: 0.4\n"
     ]
    }
   ],
   "source": [
    "def compute_co2_efficiency(co2_reduction, investment_cost):\n",
    "    try:\n",
    "        ratio = co2_reduction / (investment_cost * 1_000)\n",
    "        return round(ratio, 2)\n",
    "    except ZeroDivisionError:\n",
    "        return \"Cannot compute\"\n",
    "\n",
    "for pid in [\"PLTS-NTT-001\", \"PLTS-JATIM-001\", \"PLTM-PAPU-001\"]:\n",
    "    row = merged_1[merged_1[\"Project_ID\"] == pid]\n",
    "    if not row.empty:\n",
    "        co2 = row.iloc[0][\"CO2_Reduction\"]\n",
    "        inv = row.iloc[0][\"Investment_Cost\"]\n",
    "        result = compute_co2_efficiency(co2, inv)\n",
    "        print(f\"{pid}: {result}\")\n",
    "    else:\n",
    "        print(f\"{pid}: Data not found\")\n"
   ]
  },
  {
   "cell_type": "markdown",
   "id": "6790a9e4-987d-440d-afae-d3013b947eb5",
   "metadata": {},
   "source": [
    "## Soal 7: Try-Except dalam Loop"
   ]
  },
  {
   "cell_type": "code",
   "execution_count": 14,
   "id": "ba1d7715-8639-4dd1-8daa-5822123c6ca6",
   "metadata": {},
   "outputs": [
    {
     "name": "stdout",
     "output_type": "stream",
     "text": [
      "PLTM-SULUT-002: Energy Output not found\n",
      "PLTA-JABAR-999: Energy Output not found\n",
      "Average Energy Output: 20000 kWh\n"
     ]
    }
   ],
   "source": [
    "energy_dict = env_df.set_index(\"Project_ID\")[\"Energy_Output\"].to_dict()\n",
    "total_energy = 0\n",
    "count = 0\n",
    "for pid in [\"PLTS-NTT-001\", \"PLTM-SULUT-002\", \"PLTA-JABAR-999\", \"PLTM-PAPU-001\"]:\n",
    "    try:\n",
    "        energy = energy_dict[pid]\n",
    "        total_energy += energy\n",
    "        count += 1\n",
    "    except KeyError:\n",
    "        print(f\"{pid}: Energy Output not found\")\n",
    "if count:\n",
    "    avg_energy = total_energy / count\n",
    "    print(f\"Average Energy Output: {avg_energy:.0f} kWh\")\n",
    "else:\n",
    "    print(\"No valid energy data found.\")\n"
   ]
  },
  {
   "cell_type": "markdown",
   "id": "c6f82211-4e1e-45ed-86ab-4577d46a720a",
   "metadata": {},
   "source": [
    "## Bonus: Decision Tree"
   ]
  },
  {
   "cell_type": "code",
   "execution_count": 15,
   "id": "027b7efc-0a02-4c46-bf45-87ca00bc7fdb",
   "metadata": {},
   "outputs": [
    {
     "name": "stdout",
     "output_type": "stream",
     "text": [
      "Model Accuracy: 0.50\n",
      "Prediction for new project: Medium: 💵💵💵\n"
     ]
    }
   ],
   "source": [
    "merged_all = econ_df.merge(env_df, on=\"Project_ID\").merge(fin_df, on=\"Project_ID\")\n",
    "X = merged_all[[\"GDP_Growth\", \"CO2_Reduction\", \"Investment_Cost\"]]\n",
    "y = merged_all[\"Daya_Tarik_Investasi\"]\n",
    "X_train, X_test, y_train, y_test = train_test_split(X, y, test_size=0.2, random_state=42)\n",
    "model = DecisionTreeClassifier(random_state=42)\n",
    "model.fit(X_train, y_train)\n",
    "y_pred = model.predict(X_test)\n",
    "print(f\"Model Accuracy: {accuracy_score(y_test, y_pred):.2f}\")\n",
    "new_project = pd.DataFrame({\"GDP_Growth\": [5.0], \"CO2_Reduction\": [70000], \"Investment_Cost\": [150]})\n",
    "print(\"Prediction for new project:\", model.predict(new_project)[0])\n"
   ]
  }
 ],
 "metadata": {
  "kernelspec": {
   "display_name": "Python 3 (ipykernel)",
   "language": "python",
   "name": "python3"
  },
  "language_info": {
   "codemirror_mode": {
    "name": "ipython",
    "version": 3
   },
   "file_extension": ".py",
   "mimetype": "text/x-python",
   "name": "python",
   "nbconvert_exporter": "python",
   "pygments_lexer": "ipython3",
   "version": "3.9.0"
  }
 },
 "nbformat": 4,
 "nbformat_minor": 5
}
